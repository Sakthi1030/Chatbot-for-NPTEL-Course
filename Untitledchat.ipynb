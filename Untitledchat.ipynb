{
  "nbformat": 4,
  "nbformat_minor": 0,
  "metadata": {
    "colab": {
      "private_outputs": true,
      "provenance": [],
      "gpuType": "T4",
      "authorship_tag": "ABX9TyPzEPJ+bgXjXij6iMexizPX",
      "include_colab_link": true
    },
    "kernelspec": {
      "name": "python3",
      "display_name": "Python 3"
    },
    "language_info": {
      "name": "python"
    },
    "accelerator": "GPU"
  },
  "cells": [
    {
      "cell_type": "markdown",
      "metadata": {
        "id": "view-in-github",
        "colab_type": "text"
      },
      "source": [
        "<a href=\"https://colab.research.google.com/github/Sakthi1030/Chatbot-for-NPTEL-Course/blob/main/Untitledchat.ipynb\" target=\"_parent\"><img src=\"https://colab.research.google.com/assets/colab-badge.svg\" alt=\"Open In Colab\"/></a>"
      ]
    },
    {
      "cell_type": "code",
      "source": [
        "from google.colab import drive\n",
        "drive.mount('/content/drive')\n"
      ],
      "metadata": {
        "id": "tlRw7w8GzUcm"
      },
      "execution_count": null,
      "outputs": []
    },
    {
      "cell_type": "code",
      "source": [
        "import os\n",
        "\n",
        "root_path = '/content/drive/My Drive/'\n",
        "print(os.listdir(root_path))\n"
      ],
      "metadata": {
        "id": "PXOisAtLzYFx"
      },
      "execution_count": null,
      "outputs": []
    },
    {
      "cell_type": "code",
      "source": [
        "pdf_folder_path = '/content/drive/My Drive/NPT file'\n",
        "\n",
        "for file_name in os.listdir(pdf_folder_path):\n",
        "    print(file_name)"
      ],
      "metadata": {
        "id": "HOYAQUlvz5ef"
      },
      "execution_count": null,
      "outputs": []
    },
    {
      "cell_type": "code",
      "source": [
        "!pip install PyPDF2"
      ],
      "metadata": {
        "id": "x4L4AB7Cz-zY"
      },
      "execution_count": null,
      "outputs": []
    },
    {
      "cell_type": "code",
      "source": [
        "from google.colab import drive\n",
        "import PyPDF2\n",
        "import os"
      ],
      "metadata": {
        "id": "CXUW5reW0aKd"
      },
      "execution_count": null,
      "outputs": []
    },
    {
      "cell_type": "code",
      "source": [
        "drive.mount('/content/drive')\n",
        "pdf_folder_path = '/content/drive/My Drive/NPT file'\n",
        "\n"
      ],
      "metadata": {
        "id": "yWASZU7y0dSl"
      },
      "execution_count": null,
      "outputs": []
    },
    {
      "cell_type": "code",
      "source": [
        "def extract_text_from_pdf(pdf_path):\n",
        "    with open(pdf_path, 'rb') as file:\n",
        "        reader = PyPDF2.PdfReader(file)\n",
        "        text = \"\"\n",
        "        for page in range(len(reader.pages)):\n",
        "            text += reader.pages[page].extract_text()\n",
        "        return text"
      ],
      "metadata": {
        "id": "ce_NxaXs0pV_"
      },
      "execution_count": null,
      "outputs": []
    },
    {
      "cell_type": "code",
      "source": [
        "#text extraction\n",
        "pdf_texts = {}\n",
        "for file_name in os.listdir(pdf_folder_path):\n",
        "    if file_name.endswith('.pdf'):\n",
        "        pdf_path = os.path.join(pdf_folder_path, file_name)\n",
        "        text = extract_text_from_pdf(pdf_path)\n",
        "        pdf_texts[file_name] = text\n",
        "\n",
        "for pdf_name, pdf_text in pdf_texts.items():\n",
        "    print(f\"Text from {pdf_name}: \\n {pdf_text[:1000]}\")"
      ],
      "metadata": {
        "id": "0HK7lWad0vjf"
      },
      "execution_count": null,
      "outputs": []
    },
    {
      "cell_type": "code",
      "source": [
        "import json\n",
        "\n",
        "with open('/content/drive/My Drive/pdf_texts.json', 'w') as f:\n",
        "    json.dump(pdf_texts, f)"
      ],
      "metadata": {
        "id": "kKGN8id_0vpV"
      },
      "execution_count": null,
      "outputs": []
    },
    {
      "cell_type": "code",
      "source": [
        "!pip install sentence-transformers faiss-cpu\n"
      ],
      "metadata": {
        "id": "hKXdrOze2ukK"
      },
      "execution_count": null,
      "outputs": []
    },
    {
      "cell_type": "code",
      "source": [
        "from sentence_transformers import SentenceTransformer\n",
        "import faiss\n",
        "import numpy as np\n",
        "\n",
        "# transformer model for embeddings\n",
        "model = SentenceTransformer('all-MiniLM-L6-v2')\n",
        "\n",
        "documents = list(pdf_texts.values())\n",
        "embeddings = model.encode(documents, convert_to_numpy=True)\n",
        "\n",
        "# Creating and populating the FAISS index\n",
        "index = faiss.IndexFlatL2(embeddings.shape[1])\n",
        "index.add(embeddings)\n",
        "faiss.write_index(index, '/content/drive/My Drive/index.faiss')\n",
        "\n",
        "# Save the document\n",
        "import pickle\n",
        "with open('/content/drive/My Drive/documents.pkl', 'wb') as f:\n",
        "    pickle.dump(list(pdf_texts.keys()), f)\n"
      ],
      "metadata": {
        "id": "mb4Vi9bi2xmX"
      },
      "execution_count": null,
      "outputs": []
    },
    {
      "cell_type": "code",
      "source": [
        "!pip install transformers\n"
      ],
      "metadata": {
        "id": "sIPFGg1H2-24"
      },
      "execution_count": null,
      "outputs": []
    },
    {
      "cell_type": "code",
      "source": [
        "from transformers import pipeline\n",
        "\n",
        "# Load the retriever and generator\n",
        "retriever = faiss.read_index('/content/drive/My Drive/index.faiss')\n",
        "generator = pipeline('text-generation', model='facebook/rag-token-base')\n",
        "\n",
        "def chat_with_bot(query):\n",
        "    query_embedding = model.encode([query], convert_to_numpy=True)\n",
        "    D, I = retriever.search(query_embedding, k=1)  # Adjust k for more results\n",
        "    retrieved_doc = documents[I[0][0]]\n",
        "\n",
        "    # Generating a response\n",
        "    response = generator(f\"Context: {retrieved_doc} \\nQuery: {query}\", max_length=150)\n",
        "\n",
        "    return response[0]['generated_text']\n",
        "\n",
        "# Test the bot\n",
        "query = \"What is cybersecurity?\"\n",
        "print(chat_with_bot(query))\n"
      ],
      "metadata": {
        "id": "N5lt-rEq3C97"
      },
      "execution_count": null,
      "outputs": []
    },
    {
      "cell_type": "code",
      "source": [
        "!pip install --upgrade transformers\n"
      ],
      "metadata": {
        "id": "F17NVGXF4KSO"
      },
      "execution_count": null,
      "outputs": []
    },
    {
      "cell_type": "code",
      "source": [
        "from transformers import RagTokenizer, RagRetriever, RagSequenceForGeneration\n",
        "import torch\n",
        "\n",
        "# Load the tokenizer, retriever, and generator\n",
        "tokenizer = RagTokenizer.from_pretrained('facebook/rag-token-base')\n",
        "retriever = RagRetriever.from_pretrained('facebook/rag-token-base', use_dummy_dataset=True)\n",
        "model = RagSequenceForGeneration.from_pretrained('facebook/rag-token-base')\n",
        "\n",
        "def chat_with_bot(query):\n",
        "    # Tokenize the input query\n",
        "    inputs = tokenizer(query, return_tensors='pt')\n",
        "\n",
        "    # Retrieve relevant documents\n",
        "    retrieved_doc = retriever(input_ids=inputs['input_ids'], attention_mask=inputs['attention_mask'])\n",
        "\n",
        "    # Generate a response based on the retrieved documents\n",
        "    outputs = model.generate(\n",
        "        input_ids=inputs['input_ids'],\n",
        "        attention_mask=inputs['attention_mask'],\n",
        "        doc_scores=retrieved_doc['doc_scores'],\n",
        "        context_input_ids=retrieved_doc['context_input_ids']\n",
        "    )\n",
        "\n",
        "    response = tokenizer.decode(outputs[0], skip_special_tokens=True)\n",
        "    return response\n",
        "\n",
        "# Test the chatbot\n",
        "query = \"What is cybersecurity?\"\n",
        "print(chat_with_bot(query))\n"
      ],
      "metadata": {
        "id": "jIBA-sEB4LYQ"
      },
      "execution_count": null,
      "outputs": []
    },
    {
      "cell_type": "code",
      "source": [
        "from transformers import BertTokenizer, BertForQuestionAnswering, GPT2Tokenizer, GPT2LMHeadModel\n",
        "\n",
        "# Load BERT for retrieval and GPT-2 for generation\n",
        "bert_tokenizer = BertTokenizer.from_pretrained('bert-base-uncased')\n",
        "bert_model = BertForQuestionAnswering.from_pretrained('bert-base-uncased')\n",
        "gpt2_tokenizer = GPT2Tokenizer.from_pretrained('gpt2')\n",
        "gpt2_model = GPT2LMHeadModel.from_pretrained('gpt2')\n",
        "\n",
        "def chat_with_bot(query):\n",
        "    # Encode the query\n",
        "    inputs = gpt2_tokenizer.encode(query, return_tensors='pt')\n",
        "\n",
        "    # Generate a response\n",
        "    outputs = gpt2_model.generate(inputs, max_length=150)\n",
        "\n",
        "    response = gpt2_tokenizer.decode(outputs[0], skip_special_tokens=True)\n",
        "    return response\n",
        "\n",
        "# Test the chatbot\n",
        "query = \"What is cybersecurity?\"\n",
        "print(chat_with_bot(query))\n"
      ],
      "metadata": {
        "id": "4shy8X6C4b9E"
      },
      "execution_count": null,
      "outputs": []
    },
    {
      "cell_type": "code",
      "source": [
        "!pip install flask\n"
      ],
      "metadata": {
        "id": "8W66kgL_5g3W"
      },
      "execution_count": null,
      "outputs": []
    }
  ]
}